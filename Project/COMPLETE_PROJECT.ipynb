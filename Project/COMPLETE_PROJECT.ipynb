{
 "cells": [
  {
   "cell_type": "code",
   "execution_count": null,
   "id": "629a1849",
   "metadata": {},
   "outputs": [
    {
     "name": "stdout",
     "output_type": "stream",
     "text": [
      "-------WELCOME TO EMPLOYEE SYSTEM--------\n",
      "\n",
      "Please Enter Login ID:20HR58\n",
      "Please Enter Passoword:SHUBHADEEP\n",
      "\n",
      "-----------WELCOME TO THE TO EMPLOYEE MODULE---------------\n",
      "\n",
      "Welcome, SHUBHADEEP from HR!!!\n",
      "ENTER 1 - TO VIEW OWN DETAILS\n",
      "ENTER 2 - TO VIEW EMPLOYEES\n",
      "ENTER 3 - TO EXIT\n",
      "1\n",
      "Employee_ID:20HR58\n",
      "Employee_Name:SHUBHADEEP DASH\n",
      "Employee_DOJ:26/03/2021\n",
      "Employee_Designation:SOFTWARE ENGINEER\n",
      "Employee_Salary:0\n",
      "\n",
      "ENTER 1 - TO VIEW OWN DETAILS\n",
      "ENTER 2 - TO VIEW EMPLOYEES\n",
      "ENTER 3 - TO EXIT\n",
      "2\n",
      "Enter designation: WEB DEVELOPER\n",
      "Employee_ID:20EP21\n",
      "Employee_Name:RAJEEV NAYAN\n",
      "Employee_DOJ:20/02/2021\n",
      "Employee_Designation:WEB DEVELOPER\n",
      "Employee_Salary:0\n",
      "\n",
      "Employee_ID:20HR25\n",
      "Employee_Name:AKSHAT KUMAR\n",
      "Employee_DOJ:21/05/2021\n",
      "Employee_Designation:WEB DEVELOPER\n",
      "Employee_Salary:0\n",
      "\n",
      "ENTER 1 - TO VIEW OWN DETAILS\n",
      "ENTER 2 - TO VIEW EMPLOYEES\n",
      "ENTER 3 - TO EXIT\n",
      "3\n",
      "\n",
      "-----------WELCOME TO THE TO EMPLOYEE MODULE---------------\n",
      "\n",
      "Welcome, SHUBHADEEP from HR!!!\n",
      "ENTER 1 - TO VIEW OWN DETAILS\n",
      "ENTER 2 - TO VIEW EMPLOYEES\n",
      "ENTER 3 - TO EXIT\n"
     ]
    }
   ],
   "source": [
    "import log_mod\n",
    "log_mod.login_function()"
   ]
  },
  {
   "cell_type": "code",
   "execution_count": null,
   "id": "c52d2cc4",
   "metadata": {},
   "outputs": [],
   "source": []
  }
 ],
 "metadata": {
  "kernelspec": {
   "display_name": "Python 3",
   "language": "python",
   "name": "python3"
  },
  "language_info": {
   "codemirror_mode": {
    "name": "ipython",
    "version": 3
   },
   "file_extension": ".py",
   "mimetype": "text/x-python",
   "name": "python",
   "nbconvert_exporter": "python",
   "pygments_lexer": "ipython3",
   "version": "3.8.8"
  }
 },
 "nbformat": 4,
 "nbformat_minor": 5
}
