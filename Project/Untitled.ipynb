{
 "cells": [
  {
   "cell_type": "code",
   "execution_count": 3,
   "id": "e029eb22",
   "metadata": {},
   "outputs": [
    {
     "name": "stdout",
     "output_type": "stream",
     "text": [
      "['Employee_ID:20THYJ63 Employee_Name:KRUNAL SINGH Employee_DOJ:02/06/2021 Employee_Designation:SOFTWARE ENGINEER Employee_Salary:0\\n']\n",
      "DOJ:02/06/2021\n"
     ]
    }
   ],
   "source": [
    "w_lst = [\"Employee_ID:20THYJ63 Employee_Name:KRUNAL SINGH Employee_DOJ:02/06/2021 Employee_Designation:SOFTWARE ENGINEER Employee_Salary:0\\n\"]\n",
    "print(w_lst)\n",
    "n = w_lst[0].split()[3]\n",
    "name = n.strip(\"Employee_Name:\")\n",
    "print(name)"
   ]
  },
  {
   "cell_type": "code",
   "execution_count": 2,
   "id": "dc0c097f",
   "metadata": {},
   "outputs": [
    {
     "name": "stdout",
     "output_type": "stream",
     "text": [
      "Hellauluja\n"
     ]
    }
   ],
   "source": [
    "emp_id = \"20HR52\"\n",
    "if \"EP\" in emp_id:\n",
    "    print(\"Mera yasu yasu\")\n",
    "elif \"HR\" in emp_id:\n",
    "    print(\"Hellauluja\")\n"
   ]
  },
  {
   "cell_type": "code",
   "execution_count": 5,
   "id": "05b82422",
   "metadata": {},
   "outputs": [
    {
     "ename": "SyntaxError",
     "evalue": "Missing parentheses in call to 'print'. Did you mean print(i)? (<ipython-input-5-126b3cca1728>, line 3)",
     "output_type": "error",
     "traceback": [
      "\u001b[1;36m  File \u001b[1;32m\"<ipython-input-5-126b3cca1728>\"\u001b[1;36m, line \u001b[1;32m3\u001b[0m\n\u001b[1;33m    print i\u001b[0m\n\u001b[1;37m          ^\u001b[0m\n\u001b[1;31mSyntaxError\u001b[0m\u001b[1;31m:\u001b[0m Missing parentheses in call to 'print'. Did you mean print(i)?\n"
     ]
    }
   ],
   "source": [
    "lidtt = ['a','b','c']\n",
    "for i in lidtt:\n",
    "    print"
   ]
  },
  {
   "cell_type": "code",
   "execution_count": null,
   "id": "f560e241",
   "metadata": {},
   "outputs": [],
   "source": []
  }
 ],
 "metadata": {
  "kernelspec": {
   "display_name": "Python 3",
   "language": "python",
   "name": "python3"
  },
  "language_info": {
   "codemirror_mode": {
    "name": "ipython",
    "version": 3
   },
   "file_extension": ".py",
   "mimetype": "text/x-python",
   "name": "python",
   "nbconvert_exporter": "python",
   "pygments_lexer": "ipython3",
   "version": "3.8.8"
  }
 },
 "nbformat": 4,
 "nbformat_minor": 5
}
